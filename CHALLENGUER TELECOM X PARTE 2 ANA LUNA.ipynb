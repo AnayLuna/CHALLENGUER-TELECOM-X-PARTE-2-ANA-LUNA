{
  "nbformat": 4,
  "nbformat_minor": 0,
  "metadata": {
    "colab": {
      "provenance": []
    },
    "kernelspec": {
      "name": "python3",
      "display_name": "Python 3"
    },
    "language_info": {
      "name": "python"
    }
  },
  "cells": [
    {
      "cell_type": "markdown",
      "source": [
        "#**Challenge Telecom X: análisis de evasión de clientes - Parte 2**"
      ],
      "metadata": {
        "id": "57EaUsPef1dn"
      }
    },
    {
      "cell_type": "markdown",
      "source": [
        "##**🛠️ Preparación de los Datos**"
      ],
      "metadata": {
        "id": "TQE8nWwRgC6f"
      }
    },
    {
      "cell_type": "code",
      "source": [
        "# Importacion de librerías\n",
        "import pandas as pd\n",
        "from sklearn.model_selection import train_test_split\n",
        "from sklearn.preprocessing import StandardScaler\n",
        "from sklearn.metrics import classification_report\n",
        "from imblearn.over_sampling import SMOTE\n",
        "import matplotlib.pyplot as plt\n",
        "import seaborn as sns"
      ],
      "metadata": {
        "id": "O2FaDUFzhjkn"
      },
      "execution_count": 8,
      "outputs": []
    },
    {
      "cell_type": "markdown",
      "source": [
        "###**✅ 1. Extracción del Archivo Tratado**\n",
        "\n",
        "---\n",
        "\n",
        "Carga el archivo CSV que contiene los datos tratados anteriormente.\n",
        "\n",
        "📂 Atención: Utiliza el mismo archivo que limpiaste y organizaste en la Parte 1 del desafío Telecom X. Debe contener solo las columnas relevantes, ya con los datos corregidos y estandarizados.\n",
        "\n",
        "---"
      ],
      "metadata": {
        "id": "3_K6P9JlgV3f"
      }
    },
    {
      "cell_type": "code",
      "source": [
        "# 1. Cargamos el archivo CSV tratado previamente\n",
        "df = pd.read_csv('/content/TelecomX_Datos_Tratados.csv')"
      ],
      "metadata": {
        "id": "i1HiDPq8hsA3"
      },
      "execution_count": 9,
      "outputs": []
    },
    {
      "cell_type": "markdown",
      "source": [
        "###**✅ 2. Eliminación de Columnas Irrelevantes**\n",
        "\n",
        "---\n",
        "\n",
        "Elimina columnas que no aportan valor al análisis o a los modelos predictivos, como identificadores únicos (por ejemplo, el ID del cliente). Estas columnas no ayudan en la predicción de la cancelación y pueden incluso perjudicar el desempeño de los modelos.\n",
        "\n",
        "---\n",
        "\n"
      ],
      "metadata": {
        "id": "POl1jAwGgymw"
      }
    },
    {
      "cell_type": "code",
      "source": [
        "# Eliminamos identificadores únicos o columnas irrelevantes para la predicción\n",
        "df = df.drop(columns=[col for col in df.columns if col.lower() == 'customerid'], errors='ignore')"
      ],
      "metadata": {
        "id": "sA6WTQkWiXHv"
      },
      "execution_count": 10,
      "outputs": []
    },
    {
      "cell_type": "markdown",
      "source": [
        "###**✅ 3. Transformación de variables categóricas (One-Hot Encoding)**"
      ],
      "metadata": {
        "id": "hhCKlpOfpdE-"
      }
    },
    {
      "cell_type": "code",
      "source": [
        "# Identificamos variables categóricas\n",
        "columnas_categoricas = ['Genero', 'TipoInternet', 'TipoContrato', 'MetodoPago']\n",
        "\n",
        "# Aplicamos One-Hot Encoding (sin duplicar la primera categoría para evitar multicolinealidad)\n",
        "df_encoded = pd.get_dummies(df, columns=columnas_categoricas, drop_first=True)"
      ],
      "metadata": {
        "id": "CpLRlElnnTrw"
      },
      "execution_count": 11,
      "outputs": []
    },
    {
      "cell_type": "markdown",
      "source": [
        "###**✅ 4. Separar variable objetivo (y) y variables predictoras (X)**"
      ],
      "metadata": {
        "id": "Ws1Fs420qMwf"
      }
    },
    {
      "cell_type": "code",
      "source": [
        "# Definimos X e y\n",
        "X = df_encoded.drop(columns=['Churn'])\n",
        "y = df_encoded['Churn']"
      ],
      "metadata": {
        "id": "LtjfgGnTqWVe"
      },
      "execution_count": 12,
      "outputs": []
    },
    {
      "cell_type": "markdown",
      "source": [
        "###**✅ 5. Análisis del desbalance de clases**"
      ],
      "metadata": {
        "id": "vQXnzd9cqZXH"
      }
    },
    {
      "cell_type": "code",
      "source": [
        "# Calculamos la proporción de cancelaciones vs no cancelaciones\n",
        "proporcion_original = y.value_counts(normalize=True) * 100\n",
        "print(\"Proporción original:\")\n",
        "print(proporcion_original.round(2))\n",
        "\n",
        "# Visualizamos\n",
        "sns.countplot(x=y)\n",
        "plt.title(\"Distribución de Churn antes del balanceo\")\n",
        "plt.show()"
      ],
      "metadata": {
        "colab": {
          "base_uri": "https://localhost:8080/",
          "height": 563
        },
        "id": "1jneI-56qhzP",
        "outputId": "ff82976e-95df-47de-c9dd-a32885f0589a"
      },
      "execution_count": 13,
      "outputs": [
        {
          "output_type": "stream",
          "name": "stdout",
          "text": [
            "Proporción original:\n",
            "Churn\n",
            "0    73.42\n",
            "1    26.58\n",
            "Name: proportion, dtype: float64\n"
          ]
        },
        {
          "output_type": "display_data",
          "data": {
            "text/plain": [
              "<Figure size 640x480 with 1 Axes>"
            ],
            "image/png": "[encoded data removed]"
          },
          "metadata": {}
        }
      ]
    },
    {
      "cell_type": "markdown",
      "source": [
        "###**✅ 6. Balanceo de clases con SMOTE (Oversampling)**"
      ],
      "metadata": {
        "id": "rPYDZuddq0qu"
      }
    },
    {
      "cell_type": "code",
      "source": [
        "# Aplicamos SMOTE para balancear la clase minoritaria\n",
        "smote = SMOTE(random_state=42)\n",
        "\n",
        "# Fill missing values with the mean of each column\n",
        "X_filled = X.fillna(X.mean())\n",
        "\n",
        "# Apply SMOTE to the filled data\n",
        "X_bal, y_bal = smote.fit_resample(X_filled, y)\n",
        "\n",
        "# Revisión del nuevo balance\n",
        "print(\"Distribución después de SMOTE:\")\n",
        "print(y_bal.value_counts())\n",
        "\n",
        "# Visualizamos\n",
        "sns.countplot(x=y_bal)\n",
        "plt.title(\"Distribución de Churn después de aplicar SMOTE\")\n",
        "plt.show()"
      ],
      "metadata": {
        "colab": {
          "base_uri": "https://localhost:8080/",
          "height": 563
        },
        "id": "JAjI5Vt4q7Rn",
        "outputId": "b40a9dfa-f52d-4154-b4ff-beb6fd94608d"
      },
      "execution_count": 15,
      "outputs": [
        {
          "output_type": "stream",
          "name": "stdout",
          "text": [
            "Distribución después de SMOTE:\n",
            "Churn\n",
            "0    5163\n",
            "1    5163\n",
            "Name: count, dtype: int64\n"
          ]
        },
        {
          "output_type": "display_data",
          "data": {
            "text/plain": [
              "<Figure size 640x480 with 1 Axes>"
            ],
            "image/png": "[encoded data removed]"
          },
          "metadata": {}
        }
      ]
    },
    {
      "cell_type": "markdown",
      "source": [
        "###**✅ 7. Estandarización de variables numéricas** **texto en negrita**"
      ],
      "metadata": {
        "id": "ks_TXRCurNCG"
      }
    },
    {
      "cell_type": "code",
      "source": [
        "# Identificamos columnas numéricas\n",
        "columnas_numericas = ['MesesCliente', 'CargosMensuales', 'TotalGastado', 'CargosDiarios']\n",
        "\n",
        "# Escalamos estas columnas con StandardScaler\n",
        "scaler = StandardScaler()\n",
        "X_bal[columnas_numericas] = scaler.fit_transform(X_bal[columnas_numericas])"
      ],
      "metadata": {
        "id": "LjddHMAxrR83"
      },
      "execution_count": 17,
      "outputs": []
    },
    {
      "cell_type": "markdown",
      "source": [
        "##**✅ 8. Validación de balanceo final**"
      ],
      "metadata": {
        "id": "flf4u3fwra6P"
      }
    },
    {
      "cell_type": "code",
      "source": [
        "proporcion_balanceada = y_bal.value_counts(normalize=True) * 100\n",
        "print(\"Proporción después del balanceo:\")\n",
        "print(proporcion_balanceada.round(2))"
      ],
      "metadata": {
        "colab": {
          "base_uri": "https://localhost:8080/"
        },
        "id": "ImeU6xL7rkrW",
        "outputId": "32f34336-456a-4cfa-c7b3-fc59bbd20753"
      },
      "execution_count": 18,
      "outputs": [
        {
          "output_type": "stream",
          "name": "stdout",
          "text": [
            "Proporción después del balanceo:\n",
            "Churn\n",
            "0    50.0\n",
            "1    50.0\n",
            "Name: proportion, dtype: float64\n"
          ]
        }
      ]
    }
  ]
}